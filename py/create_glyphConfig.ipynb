{
 "cells": [
  {
   "cell_type": "code",
   "execution_count": null,
   "id": "c44db5b3-2a07-4ba2-aaf1-d141d5696b0b",
   "metadata": {},
   "outputs": [],
   "source": [
    "# This file generates the glyphConfig.js"
   ]
  },
  {
   "cell_type": "code",
   "execution_count": 49,
   "id": "ead22392-8e36-449a-876d-b5b246d88562",
   "metadata": {},
   "outputs": [],
   "source": [
    "import pandas as pd\n",
    "import numpy as np\n",
    "import json\n",
    "import random\n",
    "\n",
    "random.seed(2023)"
   ]
  },
  {
   "cell_type": "code",
   "execution_count": 41,
   "id": "760ef10c-3693-496d-b1ee-ce7ff50076a2",
   "metadata": {},
   "outputs": [],
   "source": [
    "def rgb_to_hex(r, g, b):\n",
    "    return '#{:02x}{:02x}{:02x}'.format(r, g, b)\n",
    "\n",
    "#print(rgb_to_hex(255, 165, 1))"
   ]
  },
  {
   "cell_type": "code",
   "execution_count": 42,
   "id": "01556d6c-3641-4d41-a950-5e43024367aa",
   "metadata": {},
   "outputs": [
    {
     "data": {
      "text/plain": [
       "'point'"
      ]
     },
     "execution_count": 42,
     "metadata": {},
     "output_type": "execute_result"
    }
   ],
   "source": [
    "shapes = ['star6', 'star5','diamond','square','triangleUp','triangleDown','triangleRight','triangleLeft','cross','plus',\n",
    "'asterisk','circle','point']\n",
    "\n",
    "shapes = sorted(shapes)\n",
    "random.choice(shapes)"
   ]
  },
  {
   "cell_type": "code",
   "execution_count": 45,
   "id": "ed50906c-6970-4f52-acdf-22297d761e5d",
   "metadata": {},
   "outputs": [
    {
     "data": {
      "text/html": [
       "<div>\n",
       "<style scoped>\n",
       "    .dataframe tbody tr th:only-of-type {\n",
       "        vertical-align: middle;\n",
       "    }\n",
       "\n",
       "    .dataframe tbody tr th {\n",
       "        vertical-align: top;\n",
       "    }\n",
       "\n",
       "    .dataframe thead th {\n",
       "        text-align: right;\n",
       "    }\n",
       "</style>\n",
       "<table border=\"1\" class=\"dataframe\">\n",
       "  <thead>\n",
       "    <tr style=\"text-align: right;\">\n",
       "      <th></th>\n",
       "      <th>gene</th>\n",
       "      <th>color</th>\n",
       "      <th>glyphName</th>\n",
       "    </tr>\n",
       "  </thead>\n",
       "  <tbody>\n",
       "    <tr>\n",
       "      <th>0</th>\n",
       "      <td>8030451A03Rik</td>\n",
       "      <td>#08924c</td>\n",
       "      <td>plus</td>\n",
       "    </tr>\n",
       "    <tr>\n",
       "      <th>1</th>\n",
       "      <td>9130024F11Rik</td>\n",
       "      <td>#4f3b40</td>\n",
       "      <td>star5</td>\n",
       "    </tr>\n",
       "    <tr>\n",
       "      <th>2</th>\n",
       "      <td>9630002D21Rik</td>\n",
       "      <td>#0f6a30</td>\n",
       "      <td>plus</td>\n",
       "    </tr>\n",
       "    <tr>\n",
       "      <th>3</th>\n",
       "      <td>Abca13</td>\n",
       "      <td>#22f746</td>\n",
       "      <td>circle</td>\n",
       "    </tr>\n",
       "    <tr>\n",
       "      <th>4</th>\n",
       "      <td>Abi3bp</td>\n",
       "      <td>#420062</td>\n",
       "      <td>triangleRight</td>\n",
       "    </tr>\n",
       "    <tr>\n",
       "      <th>...</th>\n",
       "      <td>...</td>\n",
       "      <td>...</td>\n",
       "      <td>...</td>\n",
       "    </tr>\n",
       "    <tr>\n",
       "      <th>310</th>\n",
       "      <td>Vwc2</td>\n",
       "      <td>#3383a1</td>\n",
       "      <td>asterisk</td>\n",
       "    </tr>\n",
       "    <tr>\n",
       "      <th>311</th>\n",
       "      <td>Xirp2</td>\n",
       "      <td>#689b1a</td>\n",
       "      <td>star5</td>\n",
       "    </tr>\n",
       "    <tr>\n",
       "      <th>312</th>\n",
       "      <td>Zeb2</td>\n",
       "      <td>#caa3bf</td>\n",
       "      <td>point</td>\n",
       "    </tr>\n",
       "    <tr>\n",
       "      <th>313</th>\n",
       "      <td>Zfhx3</td>\n",
       "      <td>#b2db82</td>\n",
       "      <td>star5</td>\n",
       "    </tr>\n",
       "    <tr>\n",
       "      <th>314</th>\n",
       "      <td>Zfp804b</td>\n",
       "      <td>#12ab3f</td>\n",
       "      <td>triangleLeft</td>\n",
       "    </tr>\n",
       "  </tbody>\n",
       "</table>\n",
       "<p>315 rows × 3 columns</p>\n",
       "</div>"
      ],
      "text/plain": [
       "              gene    color      glyphName\n",
       "0    8030451A03Rik  #08924c           plus\n",
       "1    9130024F11Rik  #4f3b40          star5\n",
       "2    9630002D21Rik  #0f6a30           plus\n",
       "3           Abca13  #22f746         circle\n",
       "4           Abi3bp  #420062  triangleRight\n",
       "..             ...      ...            ...\n",
       "310           Vwc2  #3383a1       asterisk\n",
       "311          Xirp2  #689b1a          star5\n",
       "312           Zeb2  #caa3bf          point\n",
       "313          Zfhx3  #b2db82          star5\n",
       "314        Zfp804b  #12ab3f   triangleLeft\n",
       "\n",
       "[315 rows x 3 columns]"
      ]
     },
     "execution_count": 45,
     "metadata": {},
     "output_type": "execute_result"
    }
   ],
   "source": [
    "df = pd.read_csv('merfish_colour_scheme.csv')\n",
    "hex = []\n",
    "glyphName = []\n",
    "for index, row in df.iterrows():\n",
    "    hex.append(rgb_to_hex(row['r'], row['g'], row['b']))\n",
    "    glyphName.append(random.choice(shapes))\n",
    "df['color'] = hex\n",
    "df['glyphName'] = glyphName\n",
    "df = df[['gene', 'color', 'glyphName']]\n",
    "df"
   ]
  },
  {
   "cell_type": "code",
   "execution_count": 47,
   "id": "9c0faaf2-4bc1-46fc-8705-6d84497e3a19",
   "metadata": {},
   "outputs": [],
   "source": [
    "json_str = df.to_dict(orient='records')"
   ]
  },
  {
   "cell_type": "code",
   "execution_count": 48,
   "id": "9a578981-5c07-42ca-8e75-6b10dbd45794",
   "metadata": {},
   "outputs": [],
   "source": [
    "config_str = \" function  glyphSettings() { return %s }\" % json.dumps(json_str)\n",
    "save_to = 'glyphConfig.js' \n",
    "with open(save_to, 'w') as data:\n",
    "    data.write(str(config_str))"
   ]
  },
  {
   "cell_type": "code",
   "execution_count": null,
   "id": "ac8fe25d-74d8-4d9e-969a-47d495f4f707",
   "metadata": {},
   "outputs": [],
   "source": []
  },
  {
   "cell_type": "code",
   "execution_count": null,
   "id": "b4e398da-2169-49d5-9ead-111552c21333",
   "metadata": {},
   "outputs": [],
   "source": []
  },
  {
   "cell_type": "code",
   "execution_count": null,
   "id": "d9a9d06a-3a64-4c91-9c29-ad1fe747880b",
   "metadata": {},
   "outputs": [],
   "source": []
  }
 ],
 "metadata": {
  "kernelspec": {
   "display_name": "Python 3 (ipykernel)",
   "language": "python",
   "name": "python3"
  },
  "language_info": {
   "codemirror_mode": {
    "name": "ipython",
    "version": 3
   },
   "file_extension": ".py",
   "mimetype": "text/x-python",
   "name": "python",
   "nbconvert_exporter": "python",
   "pygments_lexer": "ipython3",
   "version": "3.8.13"
  }
 },
 "nbformat": 4,
 "nbformat_minor": 5
}

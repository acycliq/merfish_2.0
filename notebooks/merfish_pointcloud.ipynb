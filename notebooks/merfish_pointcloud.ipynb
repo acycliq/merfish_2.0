{
 "cells": [
  {
   "cell_type": "markdown",
   "id": "affc3728-3212-4e40-98ad-3359fc49c6d4",
   "metadata": {},
   "source": [
    "### Notebook to create the octree of a pointcloud to be used in the potree viewer.\n",
    "### It uses version 2.0 of the potree converter\n",
    "\n",
    "### We create one massive octree, not one per gene (which was the previous workplan)"
   ]
  },
  {
   "cell_type": "code",
   "execution_count": 1,
   "id": "b2aa071c-f1d6-4c35-baf9-43b8b8c83cf3",
   "metadata": {},
   "outputs": [],
   "source": [
    "import pandas as pd\n",
    "import numpy as np\n",
    "import laspy\n",
    "import os\n",
    "import subprocess"
   ]
  },
  {
   "cell_type": "code",
   "execution_count": 2,
   "id": "90e25953-9716-4039-8293-3fd90c197dff",
   "metadata": {},
   "outputs": [],
   "source": [
    "df = pd.read_csv(r\"E:\\OMNI-SCI-FV\\MsBrain_Eg1_VS6_JH_V6_05-02-2021\\region_0\\detected_transcripts.csv\")"
   ]
  },
  {
   "cell_type": "code",
   "execution_count": 3,
   "id": "df581c03-8868-4019-a0d4-d65ddb3d24f2",
   "metadata": {},
   "outputs": [
    {
     "data": {
      "text/plain": [
       "['asterisk',\n",
       " 'circle',\n",
       " 'cross',\n",
       " 'diamond',\n",
       " 'plus',\n",
       " 'point',\n",
       " 'square',\n",
       " 'star5',\n",
       " 'star6',\n",
       " 'triangleDown',\n",
       " 'triangleLeft',\n",
       " 'triangleRight',\n",
       " 'triangleUp']"
      ]
     },
     "execution_count": 3,
     "metadata": {},
     "output_type": "execute_result"
    }
   ],
   "source": [
    "glyphs = sorted(['star6', 'star5', 'diamond', 'square', 'triangleUp', 'triangleDown', 'triangleRight', 'triangleLeft', 'cross', 'plus', 'asterisk', 'circle', 'point'])\n",
    "glyphs"
   ]
  },
  {
   "cell_type": "code",
   "execution_count": 4,
   "id": "5316b2b3-6b82-4ae6-9997-42c53ff15f46",
   "metadata": {},
   "outputs": [],
   "source": [
    "# Colors must be between 0 and 255\n",
    "df_colors = pd.read_csv('merfish_colour_scheme.csv')\n",
    "df = df.merge(df_colors, on='gene')"
   ]
  },
  {
   "cell_type": "code",
   "execution_count": 5,
   "id": "a5a921c5-49c2-4456-a4e7-5c5c2477eabb",
   "metadata": {},
   "outputs": [],
   "source": [
    "genes, gene_id = np.unique(df.gene, return_inverse=True)\n",
    "df['gene_id'] = gene_id\n",
    "df['classification'] = gene_id\n",
    "df['pointSourceID'] = df.gene_id % len(glyphs) #source id is the gly"
   ]
  },
  {
   "cell_type": "code",
   "execution_count": 6,
   "id": "9d94ead8-f6a9-4a53-9a36-e56cfea398df",
   "metadata": {},
   "outputs": [],
   "source": [
    "## remove the mean from xyz coords. Actually I should be removing the width/2, height/2 and depth/2\n",
    "## but this is a good enough approximation\n",
    "df.global_x = df.global_x - df.global_x.mean()\n",
    "df.global_y = df.global_y - df.global_y.mean()\n",
    "df.global_z = df.global_z - df.global_z.mean()"
   ]
  },
  {
   "cell_type": "code",
   "execution_count": null,
   "id": "7bf2a1f3-916d-4f0a-90c5-ecedadef1402",
   "metadata": {},
   "outputs": [],
   "source": []
  },
  {
   "cell_type": "code",
   "execution_count": 7,
   "id": "2ba2dbf7-8a98-4b5a-8e65-fdc42e3c76b9",
   "metadata": {},
   "outputs": [],
   "source": [
    "def make_las(df, las_path):\n",
    "    raw = df.values\n",
    "    xyz = np.ascontiguousarray(raw[:, 3:6], dtype='float32')\n",
    "    rgb = np.ascontiguousarray(raw[:, 10:13], dtype='float32')\n",
    "    classification = np.ascontiguousarray(raw[:, -2], dtype='float32')\n",
    "    pointSourceID = np.ascontiguousarray(raw[:, -1], dtype='float32')\n",
    "    \n",
    "    hdr = laspy.LasHeader(version=\"1.4\", point_format=7)\n",
    "    mins = np.floor(np.min(xyz, axis=0))\n",
    "    # mins = [352, 6126, 0]\n",
    "    hdr.offset = mins\n",
    "    hdr.scales = np.array([0.001, 0.001, 0.001])\n",
    "\n",
    "    # 2. Create a Las\n",
    "    las = laspy.LasData(hdr)\n",
    "\n",
    "    las.x = xyz[:,0]\n",
    "    las.y = xyz[:,1]\n",
    "    las.z = xyz[:,2]\n",
    "    las.red = rgb[:,0] \n",
    "    las.green = rgb[:,1]\n",
    "    las.blue = rgb[:,2]\n",
    "    las.classification = classification\n",
    "    las.pt_src_id = pointSourceID\n",
    "    # las.intensity = i\n",
    "    \n",
    "    # out_path = r\"gene_pointclouds_z_spacing_1.5micron/las/%s.las\" % gene\n",
    "    out_filename = os.path.join(las_path, 'merfish.las')\n",
    "    if not os.path.exists(os.path.dirname(out_filename)):\n",
    "       os.makedirs(os.path.dirname(out_filename))\n",
    "    las.write(out_filename)\n",
    "    print('las file saved at: %s ' % out_filename) "
   ]
  },
  {
   "cell_type": "code",
   "execution_count": 8,
   "id": "01e49506-ff1b-4625-a5e8-0a7fb80740cc",
   "metadata": {},
   "outputs": [],
   "source": [
    "def make_octree(las_path):\n",
    "    exe = r\"F:\\potree\\PotreeConverter_windows_x64\\PotreeConverter.exe\"\n",
    "    output_dir = os.path.join(os.path.dirname(las_path), 'octree', 'merfish')\n",
    "    if not os.path.exists(output_dir):\n",
    "        os.makedirs(output_dir)\n",
    "    result = subprocess.run([exe, las_path, \"-o\", output_dir, \"-m\", \"poisson\"], capture_output=True, shell=True)\n",
    "    print('octree saved at: %s ' % output_dir) \n"
   ]
  },
  {
   "cell_type": "code",
   "execution_count": 9,
   "id": "7fd90b2b-9584-42b1-af32-e878cf19834e",
   "metadata": {},
   "outputs": [
    {
     "name": "stdout",
     "output_type": "stream",
     "text": [
      "las file saved at: F:\\potree\\merfish_pointcloud\\las\\merfish.las \n",
      "octree saved at: F:\\potree\\merfish_pointcloud\\octree\\merfish \n"
     ]
    }
   ],
   "source": [
    "# Set here where the las files will be saved. The octrees will be under the same parent dir\n",
    "las_dir = os.path.join('F:\\\\' 'potree', 'merfish_pointcloud', 'las')\n",
    "\n",
    "# make now the octree \n",
    "# mask = df.classification < 10\n",
    "make_las(df, las_dir)\n",
    "make_octree(las_dir)"
   ]
  },
  {
   "cell_type": "code",
   "execution_count": null,
   "id": "14a253cc-1128-43bb-b43b-13dcc4f70591",
   "metadata": {},
   "outputs": [],
   "source": []
  },
  {
   "cell_type": "code",
   "execution_count": 10,
   "id": "d2b3c037-ae50-44fd-a0f2-2340492904ed",
   "metadata": {},
   "outputs": [
    {
     "data": {
      "text/plain": [
       "12"
      ]
     },
     "execution_count": 10,
     "metadata": {},
     "output_type": "execute_result"
    }
   ],
   "source": [
    "df.pointSourceID.max()"
   ]
  },
  {
   "cell_type": "code",
   "execution_count": null,
   "id": "a96cde69-349b-4230-a22b-e39ba0e86a19",
   "metadata": {},
   "outputs": [],
   "source": []
  },
  {
   "cell_type": "code",
   "execution_count": null,
   "id": "cde6f34f-8bcb-4fde-9a80-55f4dde6c125",
   "metadata": {},
   "outputs": [],
   "source": []
  },
  {
   "cell_type": "code",
   "execution_count": null,
   "id": "6b3b6784-88e7-4a3e-aa85-e0f4d87c5bcc",
   "metadata": {},
   "outputs": [],
   "source": []
  }
 ],
 "metadata": {
  "kernelspec": {
   "display_name": "Python 3 (ipykernel)",
   "language": "python",
   "name": "python3"
  },
  "language_info": {
   "codemirror_mode": {
    "name": "ipython",
    "version": 3
   },
   "file_extension": ".py",
   "mimetype": "text/x-python",
   "name": "python",
   "nbconvert_exporter": "python",
   "pygments_lexer": "ipython3",
   "version": "3.8.13"
  }
 },
 "nbformat": 4,
 "nbformat_minor": 5
}